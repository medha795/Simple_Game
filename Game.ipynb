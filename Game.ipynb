{
 "cells": [
  {
   "cell_type": "code",
   "execution_count": 1,
   "metadata": {},
   "outputs": [],
   "source": [
    "import numpy as np \n",
    "import pandas as pd "
   ]
  },
  {
   "cell_type": "code",
   "execution_count": 2,
   "metadata": {},
   "outputs": [],
   "source": [
    "import random"
   ]
  },
  {
   "cell_type": "code",
   "execution_count": 3,
   "metadata": {},
   "outputs": [
    {
     "name": "stdout",
     "output_type": "stream",
     "text": [
      "Warm greetings for the day!!\n",
      "Kindly let me know your name?\n",
      "Medha\n",
      "Glad to meet you  Medha Let's play a game!\n",
      "I will think of a number between 1 and 20 and you have to guess it in less than 6 guesses\n",
      "take a guess\n",
      "7\n",
      "Wrong, your guess is lower than the number\n",
      "take a guess\n",
      "15\n",
      "Wrong, your guess is higher than the number\n",
      "take a guess\n",
      "10\n",
      "Hurray! Good job  Medha ! You guessed my number in  3 guesses.\n"
     ]
    }
   ],
   "source": [
    "print(\"Warm greetings for the day!!\")\n",
    "print(\"Kindly let me know your name?\")\n",
    "\n",
    "name = input()\n",
    "\n",
    "print(\"Glad to meet you \", name, \"Let's play a game!\")\n",
    "print(\"I will think of a number between 1 and 20 and you have to guess it in less than 6 guesses\")\n",
    "number = random.randint(1,20)\n",
    "guesses_no = 0\n",
    "while(guesses_no<6): \n",
    "    print(\"take a guess\")\n",
    "    guess = input()\n",
    "    guess = int(guess)\n",
    "    guesses_no = guesses_no + 1\n",
    "    if(guess < number): \n",
    "        print(\"Wrong, your guess is lower than the number\")\n",
    "    if(guess > number): \n",
    "        print(\"Wrong, your guess is higher than the number\")\n",
    "    if(guess == number): \n",
    "        break \n",
    "if(guess == number): \n",
    "    print('Hurray! Good job ',name, '! You guessed my number in ', guesses_no, 'guesses.' )\n",
    "if(guess != number): \n",
    "    print('Sorry, the number I was thinking of was ', number)\n",
    "    print('Better luck next time. Be positive & kindly try again!')"
   ]
  }
 ],
 "metadata": {
  "kernelspec": {
   "display_name": "Python 3",
   "language": "python",
   "name": "python3"
  },
  "language_info": {
   "codemirror_mode": {
    "name": "ipython",
    "version": 3
   },
   "file_extension": ".py",
   "mimetype": "text/x-python",
   "name": "python",
   "nbconvert_exporter": "python",
   "pygments_lexer": "ipython3",
   "version": "3.8.3"
  }
 },
 "nbformat": 4,
 "nbformat_minor": 4
}
